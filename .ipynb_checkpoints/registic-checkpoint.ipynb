{
 "cells": [
  {
   "cell_type": "code",
   "execution_count": 1,
   "metadata": {
    "collapsed": false,
    "deletable": true,
    "editable": true,
    "slideshow": {
     "slide_type": "slide"
    }
   },
   "outputs": [],
   "source": [
    "import numpy as np"
   ]
  },
  {
   "cell_type": "code",
   "execution_count": 2,
   "metadata": {
    "collapsed": false,
    "deletable": true,
    "editable": true,
    "slideshow": {
     "slide_type": "slide"
    }
   },
   "outputs": [],
   "source": [
    "import matplotlib.pyplot as plt"
   ]
  },
  {
   "cell_type": "code",
   "execution_count": 3,
   "metadata": {
    "collapsed": true,
    "deletable": true,
    "editable": true,
    "slideshow": {
     "slide_type": "slide"
    }
   },
   "outputs": [],
   "source": [
    "A = 0.8 \n",
    "B = -0.3"
   ]
  },
  {
   "cell_type": "code",
   "execution_count": 4,
   "metadata": {
    "collapsed": false,
    "deletable": true,
    "editable": true,
    "slideshow": {
     "slide_type": "slide"
    }
   },
   "outputs": [],
   "source": [
    "def logistic(x):\n",
    "    epsilon = np.random.normal(0, 0.1, len(x))\n",
    "    return (1.0/(1+np.exp(- A*x -B))+epsilon)"
   ]
  },
  {
   "cell_type": "code",
   "execution_count": 5,
   "metadata": {
    "collapsed": false,
    "deletable": true,
    "editable": true,
    "slideshow": {
     "slide_type": "slide"
    }
   },
   "outputs": [],
   "source": [
    "\n",
    "x1 = np.sort(np.random.normal(0,1,20))\n",
    "x2 = np.sort(np.random.normal(0,1,50))\n",
    "x3 = np.sort(np.random.normal(0,1,100))\n",
    "\n",
    "y1=logistic(x1)\n",
    "y2=logistic(x2)\n",
    "y3=logistic(x3)\n"
   ]
  },
  {
   "cell_type": "code",
   "execution_count": 6,
   "metadata": {
    "collapsed": false,
    "deletable": true,
    "editable": true,
    "slideshow": {
     "slide_type": "slide"
    }
   },
   "outputs": [
    {
     "data": {
      "image/png": "[encoded data removed]",
      "text/plain": [
       "<matplotlib.figure.Figure at 0x1045be278>"
      ]
     },
     "metadata": {},
     "output_type": "display_data"
    }
   ],
   "source": [
    "fig1 = plt.subplot(2,2,1)\n",
    "fig1.plot(x1, y1)\n",
    "fig2 = plt.subplot(2,2,2)\n",
    "fig2.plot(x2,y2)\n",
    "fig2 = plt.subplot(2,2,3)\n",
    "fig2.plot(x3,y3)\n",
    "plt.show()"
   ]
  },
  {
   "cell_type": "code",
   "execution_count": 7,
   "metadata": {
    "collapsed": true,
    "deletable": true,
    "editable": true
   },
   "outputs": [],
   "source": [
    "def Epsilon(y,s):\n",
    "    return y-s\n",
    "\n",
    "def Sigmoid(z):\n",
    "    return 1.0/(1.0+ np.exp(z))\n",
    "\n",
    "def Z(a,b,x):\n",
    "    return (-a*x-b)"
   ]
  },
  {
   "cell_type": "code",
   "execution_count": 8,
   "metadata": {
    "collapsed": false,
    "deletable": true,
    "editable": true
   },
   "outputs": [],
   "source": [
    "# gradient descent method\n",
    "# 勾配上昇法\n",
    "def gd(a, b, sigma, xarray, yarray):\n",
    "    grad = [0.0, 0.0, 0.0] \n",
    "\n",
    "    n = len(xarray)\n",
    "    for i in range(n):\n",
    "        x =xarray[i]\n",
    "        y =yarray[i]\n",
    "        z = Z(a, b, x)\n",
    "        s = Sigmoid(z)\n",
    "        e = Epsilon(y, s)\n",
    "        tmp = e * s * (1 - s)\n",
    "        \n",
    "        grad[0] += (tmp * x)\n",
    "        grad[1] += (tmp )\n",
    "        grad[2] += (e ** 2)\n",
    "        \n",
    "    var = sigma **2\n",
    "    \n",
    "    grad[2] = (grad[2]/(var) - n)/sigma\n",
    "    grad[1] /=var\n",
    "    grad[0] /=var\n",
    "    \n",
    "#     if(var < 0):\n",
    "#         print(\"var = 0\")\n",
    "\n",
    "#     try:\n",
    "#         l    = n * np.log(1/(np.sqrt(2*np.pi)*sigma)) - EE_sum/(2 * var)\n",
    "#     except:\n",
    "#         print(\"sigma=%f\"%(sigma))\n",
    "        \n",
    "    return(grad[0], grad[1], grad[2])"
   ]
  },
  {
   "cell_type": "markdown",
   "metadata": {
    "deletable": true,
    "editable": true
   },
   "source": [
    "A=0.8\n",
    "B=-0.3\n",
    "Sigma = 0.1#標準偏差"
   ]
  },
  {
   "cell_type": "code",
   "execution_count": 9,
   "metadata": {
    "collapsed": false,
    "deletable": true,
    "editable": true
   },
   "outputs": [],
   "source": [
    "def run_gd(x, y):\n",
    "    a = [1]\n",
    "    b = [1]\n",
    "    sigma=[0.1]\n",
    "    eita=0.0001\n",
    "    e = 0.0000000001\n",
    "    \n",
    "    for i in range(2000):\n",
    "        da, db, dsigma = gd(a[-1], b[-1], 0.1, x, y)\n",
    "\n",
    "        if np.abs(da) < e and np.abs(db)<e and np.abs(dsigma) < e:\n",
    "#         print(\"%5d, da=%f, db=%f, ds=%f\"%(i, da, db, dsigma))\n",
    "            break\n",
    "        a.append(a[i] + eita* da)\n",
    "        b.append(b[i] + eita * db)\n",
    "        sigma.append(sigma[i] + eita*dsigma)\n",
    "#         if i %200 ==0:\n",
    "#         print(\"%5d, a=%5lf, b=%5lf, sigma=%lf\" % ( i, a[-1], b[-1], sigma[-1]))\n",
    "    return a,b,sigma"
   ]
  },
  {
   "cell_type": "code",
   "execution_count": 10,
   "metadata": {
    "collapsed": false,
    "deletable": true,
    "editable": true
   },
   "outputs": [
    {
     "name": "stdout",
     "output_type": "stream",
     "text": [
      "data set 1: a=0.859636, b=-0.065794, sigma=-1.568938, 計算回数:2000\n"
     ]
    },
    {
     "data": {
      "image/png": "[encoded data removed]",
      "text/plain": [
       "<matplotlib.figure.Figure at 0x1046db6a0>"
      ]
     },
     "metadata": {},
     "output_type": "display_data"
    }
   ],
   "source": [
    "a1,b1,sigma1=run_gd (x1, y1)\n",
    "print(\"data set 1: a=%5lf, b=%5lf, sigma=%lf, 計算回数:%d\" % ( a1[-1], b1[-1], sigma1[-1], len(a1)-1))\n",
    "\n",
    "plt.plot(np.arange(len(a1)), np.array(a1))\n",
    "plt.plot(np.arange(len(b1)), np.array(b1))\n",
    "# plt.plot(np.arange(len(sigma1)), np.array(sigma1))\n",
    "plt.show()"
   ]
  },
  {
   "cell_type": "code",
   "execution_count": 11,
   "metadata": {
    "collapsed": false,
    "deletable": true,
    "editable": true
   },
   "outputs": [
    {
     "name": "stdout",
     "output_type": "stream",
     "text": [
      "data set 2: a=0.919038, b=-0.281384, sigma=-14.705041, 計算回数:2000\n"
     ]
    },
    {
     "data": {
      "image/png": "[encoded data removed]",
      "text/plain": [
       "<matplotlib.figure.Figure at 0x104783550>"
      ]
     },
     "metadata": {},
     "output_type": "display_data"
    }
   ],
   "source": [
    "a2,b2,sigma2=run_gd (x2,y2)\n",
    "print(\"data set 2: a=%5lf, b=%5lf, sigma=%lf, 計算回数:%d\" % ( a2[-1], b2[-1], sigma2[-1], len(a2)-1))\n",
    "\n",
    "plt.plot(np.arange(len(a2)), np.array(a2))\n",
    "plt.plot(np.arange(len(b2)), np.array(b2))\n",
    "# plt.plot(np.arange(len(sigma2)), np.array(sigma2))\n",
    "plt.show()"
   ]
  },
  {
   "cell_type": "code",
   "execution_count": 12,
   "metadata": {
    "collapsed": false,
    "deletable": true,
    "editable": true,
    "scrolled": false,
    "slideshow": {
     "slide_type": "slide"
    }
   },
   "outputs": [
    {
     "name": "stdout",
     "output_type": "stream",
     "text": [
      "data set 3: a=0.879216, b=-0.244235, sigma=6.482968, 計算回数:2000\n"
     ]
    },
    {
     "data": {
      "image/png": "[encoded data removed]",
      "text/plain": [
       "<matplotlib.figure.Figure at 0x1048f7d30>"
      ]
     },
     "metadata": {},
     "output_type": "display_data"
    }
   ],
   "source": [
    "a3,b3,sigma3=run_gd (x3,y3)\n",
    "print(\"data set 3: a=%5lf, b=%5lf, sigma=%lf, 計算回数:%d\" % ( a3[-1], b3[-1], sigma3[-1], len(a3)-1))\n",
    "\n",
    "plt.plot(np.arange(len(a3)), np.array(a3))\n",
    "plt.plot(np.arange(len(b3)), np.array(b3))\n",
    "# plt.plot(np.arange(len(sigma3)), np.array(sigma3))\n",
    "plt.show()"
   ]
  },
  {
   "cell_type": "code",
   "execution_count": 13,
   "metadata": {
    "collapsed": false,
    "deletable": true,
    "editable": true
   },
   "outputs": [],
   "source": [
    "def newton(a, b, xarray, yarray):\n",
    "    var = 0.01\n",
    "    n = len(xarray)\n",
    "    \n",
    "    Hessian = [[0.0 for j in range(2)] for i in range(2)]\n",
    "    grad = [0.0 for j in range(2)] \n",
    "    \n",
    "    for i in range(n):    \n",
    "        x =xarray[i]\n",
    "        y =yarray[i]\n",
    "        \n",
    "        z = Z(a, b, x)\n",
    "        s = Sigmoid(z)\n",
    "        eps = Epsilon(y, s)\n",
    "        \n",
    "        phi = y - 2 * s * (y + 1) + 3 * (s ** 2)\n",
    "        psi = s * (1 - s)\n",
    "        \n",
    "        eps_psi = eps * psi\n",
    "        \n",
    "        grad[0] += (eps_psi * x)\n",
    "        grad[1] += (eps_psi )\n",
    "#         grad[2] += (eps * eps)\n",
    "        \n",
    "        phi_psi = phi * psi\n",
    "\n",
    "        phi_psi_x = phi_psi * x\n",
    "#         20\n",
    "        Hessian[0][0] += (phi_psi_x * x)\n",
    "        Hessian[0][1] += phi_psi_x\n",
    "#         Hessian[0][2] += (eps_psi * x)\n",
    "        \n",
    "        #Hessian[1][0] += phi_psi_x\n",
    "        Hessian[1][1] += phi_psi\n",
    "#         Hessian[1][2] += eps_psi\n",
    "        \n",
    "        #Hessian[2][0]\n",
    "        #Hessian[2][1]\n",
    "#         Hessian[2][2] += (eps * eps)\n",
    "    \n",
    "#     var = sigma ** 2\n",
    "    \n",
    "#     grad[2] = (grad[2]/(var) - n)/(2 * var)\n",
    "    grad[1] /=var\n",
    "    grad[0] /=var\n",
    "    grad1 = gd(a, b, 0.1, xarray, yarray)\n",
    "#     print(\"Hessian start\")\n",
    "#     for p in range(3):\n",
    "#         print(\"[%10f, %10f, %10f]\"%(Hessian[p][0], Hessian[p][1], Hessian[p][2]))\n",
    "#     print()\n",
    "    \n",
    "    Hessian[0][0] /= var\n",
    "    Hessian[0][1] /= var\n",
    "#     Hessian[0][2] *= (-1 / (var * var))\n",
    "\n",
    "    Hessian[1][0] =  Hessian[0][1] \n",
    "    Hessian[1][1] /= var\n",
    "#     Hessian[1][2] *=  (-1 / (var * var))\n",
    "\n",
    "#     Hessian[2][0] = Hessian[0][2]\n",
    "#     Hessian[2][1] = Hessian[1][2]\n",
    "#     Hessian[2][2] =  (n/2 -  Hessian[2][2]/(var))/(var*var)\n",
    "    \n",
    "#     print(\"Hessian end\")\n",
    "#     for p in range(3):\n",
    "#         print(\"[%10f, %10f, %10f]\"%(Hessian[p][0], Hessian[p][1], Hessian[p][2]))\n",
    "#     print()\n",
    "    print(\"Hessian \", np.array(Hessian))\n",
    "#     print(np.linalg.matrix_rank(Hessian))\n",
    "#     np.linalg.inv(A)\n",
    "#     inverseH = np.matrix(np.array(Hessian)).T\n",
    "    inverseH = np.linalg.inv(np.array(Hessian))\n",
    "#     print(Hessian)\n",
    "    print(\"inverse Hessian\\n\", inverseH)\n",
    "#     print(\" inverseH * Hessian\",  np.array(Hessian).dot(np.array(inverseH)))\n",
    "    print(\"Hes * Invhs=\" ,(np.array(Hessian).dot(np.array(inverseH))))\n",
    "    print(\"gradiant \", grad)\n",
    "    print(\"grad gd  \", grad1)\n",
    "#     print()\n",
    "#     mg = np.matrix(np.array(grad))\n",
    "#     print(\"grad\", np.array(grad).T)\n",
    "#     print(np.array(grad).T)\n",
    "#     inverseH.dot(mg)\n",
    "#     print(inverseH.shape, (mg.T).shape)\n",
    "    mul=[0, 0]\n",
    "    for p in range(2):\n",
    "#         sum =0\n",
    "        for q in range(2):\n",
    "            mul[p] += inverseH[p][q] * grad[q]\n",
    "    print(\"mul\", mul)\n",
    "    return inverseH.dot(np.array(grad))"
   ]
  },
  {
   "cell_type": "code",
   "execution_count": 14,
   "metadata": {
    "collapsed": false,
    "deletable": true,
    "editable": true
   },
   "outputs": [],
   "source": [
    "def run_newton(xarray, yarray):\n",
    "    a = [10]\n",
    "    b = [10]\n",
    "#     v = [1]\n",
    "    \n",
    "    variable = np.array([1, 1])\n",
    "    \n",
    "    eita = 1\n",
    "    e = 0.000000001\n",
    "\n",
    "    print(a[-1], b[-1])\n",
    "    print()\n",
    "    for i in range(10):\n",
    "        \n",
    "        h_g = newton(a[-1], b[-1], xarray, yarray)\n",
    "        print(\"h_g \", h_g)\n",
    "#         print(h_g)\n",
    "        a.append(a[i] - eita * h_g[0])\n",
    "        b.append(b[i] - eita * h_g[1])\n",
    "#         v.append(v[i] - eita * h_g[2])\n",
    "#         print(\"var   %f, %f, %f\" % (a[-1], b[-1], s[-1]))\n",
    "#         print(a[-1], b[-1])\n",
    "#         print()\n",
    "        print(\"var  a=%f, b=%f\" % (a[-1], b[-1]))\n",
    "        print(\"==========================\\n\")\n",
    "    return a,b"
   ]
  },
  {
   "cell_type": "code",
   "execution_count": 15,
   "metadata": {
    "collapsed": false,
    "deletable": true,
    "editable": true
   },
   "outputs": [
    {
     "name": "stdout",
     "output_type": "stream",
     "text": [
      "10 10\n",
      "\n",
      "Hessian  [[ 0.0057978  -0.02889445]\n",
      " [-0.02889445  0.06334642]]\n",
      "inverse Hessian\n",
      " [[-135.46581281  -61.79054286]\n",
      " [ -61.79054286  -12.39854735]]\n",
      "Hes * Invhs= [[  1.00000000e+00   5.55111512e-17]\n",
      " [  4.44089210e-16   1.00000000e+00]]\n",
      "gradiant  [12.490669832221441, -17.090946865097237]\n",
      "grad gd   (12.490669832221439, -17.090946865097234, 4052.2626303240213)\n",
      "mul [-635.99985658024457, -559.90235574868848]\n",
      "h_g  [-635.99985658 -559.90235575]\n",
      "var  a=645.999857, b=569.902356\n",
      "==========================\n",
      "\n",
      "Hessian  [[  1.35651279e-44  -1.30798516e-44]\n",
      " [ -1.30798516e-44   1.26119355e-44]]\n"
     ]
    },
    {
     "ename": "LinAlgError",
     "evalue": "Singular matrix",
     "output_type": "error",
     "traceback": [
      "\u001b[0;31m---------------------------------------------------------------------------\u001b[0m",
      "\u001b[0;31mLinAlgError\u001b[0m                               Traceback (most recent call last)",
      "\u001b[0;32m<ipython-input-15-9ce53437d094>\u001b[0m in \u001b[0;36m<module>\u001b[0;34m()\u001b[0m\n\u001b[0;32m----> 1\u001b[0;31m \u001b[0ma4\u001b[0m\u001b[0;34m,\u001b[0m \u001b[0mb4\u001b[0m\u001b[0;34m=\u001b[0m\u001b[0mrun_newton\u001b[0m\u001b[0;34m(\u001b[0m\u001b[0mx1\u001b[0m\u001b[0;34m,\u001b[0m \u001b[0my1\u001b[0m\u001b[0;34m)\u001b[0m\u001b[0;34m\u001b[0m\u001b[0m\n\u001b[0m\u001b[1;32m      2\u001b[0m \u001b[0mplt\u001b[0m\u001b[0;34m.\u001b[0m\u001b[0mplot\u001b[0m\u001b[0;34m(\u001b[0m\u001b[0mnp\u001b[0m\u001b[0;34m.\u001b[0m\u001b[0marange\u001b[0m\u001b[0;34m(\u001b[0m\u001b[0mlen\u001b[0m\u001b[0;34m(\u001b[0m\u001b[0ma4\u001b[0m\u001b[0;34m)\u001b[0m\u001b[0;34m)\u001b[0m\u001b[0;34m,\u001b[0m \u001b[0mnp\u001b[0m\u001b[0;34m.\u001b[0m\u001b[0marray\u001b[0m\u001b[0;34m(\u001b[0m\u001b[0ma4\u001b[0m\u001b[0;34m)\u001b[0m\u001b[0;34m)\u001b[0m\u001b[0;34m\u001b[0m\u001b[0m\n\u001b[1;32m      3\u001b[0m \u001b[0mplt\u001b[0m\u001b[0;34m.\u001b[0m\u001b[0mplot\u001b[0m\u001b[0;34m(\u001b[0m\u001b[0mnp\u001b[0m\u001b[0;34m.\u001b[0m\u001b[0marange\u001b[0m\u001b[0;34m(\u001b[0m\u001b[0mlen\u001b[0m\u001b[0;34m(\u001b[0m\u001b[0mb4\u001b[0m\u001b[0;34m)\u001b[0m\u001b[0;34m)\u001b[0m\u001b[0;34m,\u001b[0m \u001b[0mnp\u001b[0m\u001b[0;34m.\u001b[0m\u001b[0marray\u001b[0m\u001b[0;34m(\u001b[0m\u001b[0mb4\u001b[0m\u001b[0;34m)\u001b[0m\u001b[0;34m)\u001b[0m\u001b[0;34m\u001b[0m\u001b[0m\n\u001b[1;32m      4\u001b[0m \u001b[0;31m# plt.plot(np.arange(len(s4)), np.array(s4))\u001b[0m\u001b[0;34m\u001b[0m\u001b[0;34m\u001b[0m\u001b[0m\n\u001b[1;32m      5\u001b[0m \u001b[0mplt\u001b[0m\u001b[0;34m.\u001b[0m\u001b[0mshow\u001b[0m\u001b[0;34m(\u001b[0m\u001b[0;34m)\u001b[0m\u001b[0;34m\u001b[0m\u001b[0m\n",
      "\u001b[0;32m<ipython-input-14-4aa92033cb54>\u001b[0m in \u001b[0;36mrun_newton\u001b[0;34m(xarray, yarray)\u001b[0m\n\u001b[1;32m     13\u001b[0m     \u001b[0;32mfor\u001b[0m \u001b[0mi\u001b[0m \u001b[0;32min\u001b[0m \u001b[0mrange\u001b[0m\u001b[0;34m(\u001b[0m\u001b[0;36m10\u001b[0m\u001b[0;34m)\u001b[0m\u001b[0;34m:\u001b[0m\u001b[0;34m\u001b[0m\u001b[0m\n\u001b[1;32m     14\u001b[0m \u001b[0;34m\u001b[0m\u001b[0m\n\u001b[0;32m---> 15\u001b[0;31m         \u001b[0mh_g\u001b[0m \u001b[0;34m=\u001b[0m \u001b[0mnewton\u001b[0m\u001b[0;34m(\u001b[0m\u001b[0ma\u001b[0m\u001b[0;34m[\u001b[0m\u001b[0;34m-\u001b[0m\u001b[0;36m1\u001b[0m\u001b[0;34m]\u001b[0m\u001b[0;34m,\u001b[0m \u001b[0mb\u001b[0m\u001b[0;34m[\u001b[0m\u001b[0;34m-\u001b[0m\u001b[0;36m1\u001b[0m\u001b[0;34m]\u001b[0m\u001b[0;34m,\u001b[0m \u001b[0mxarray\u001b[0m\u001b[0;34m,\u001b[0m \u001b[0myarray\u001b[0m\u001b[0;34m)\u001b[0m\u001b[0;34m\u001b[0m\u001b[0m\n\u001b[0m\u001b[1;32m     16\u001b[0m         \u001b[0mprint\u001b[0m\u001b[0;34m(\u001b[0m\u001b[0;34m\"h_g \"\u001b[0m\u001b[0;34m,\u001b[0m \u001b[0mh_g\u001b[0m\u001b[0;34m)\u001b[0m\u001b[0;34m\u001b[0m\u001b[0m\n\u001b[1;32m     17\u001b[0m \u001b[0;31m#         print(h_g)\u001b[0m\u001b[0;34m\u001b[0m\u001b[0;34m\u001b[0m\u001b[0m\n",
      "\u001b[0;32m<ipython-input-13-4cedb156108e>\u001b[0m in \u001b[0;36mnewton\u001b[0;34m(a, b, xarray, yarray)\u001b[0m\n\u001b[1;32m     70\u001b[0m \u001b[0;31m#     np.linalg.inv(A)\u001b[0m\u001b[0;34m\u001b[0m\u001b[0;34m\u001b[0m\u001b[0m\n\u001b[1;32m     71\u001b[0m \u001b[0;31m#     inverseH = np.matrix(np.array(Hessian)).T\u001b[0m\u001b[0;34m\u001b[0m\u001b[0;34m\u001b[0m\u001b[0m\n\u001b[0;32m---> 72\u001b[0;31m     \u001b[0minverseH\u001b[0m \u001b[0;34m=\u001b[0m \u001b[0mnp\u001b[0m\u001b[0;34m.\u001b[0m\u001b[0mlinalg\u001b[0m\u001b[0;34m.\u001b[0m\u001b[0minv\u001b[0m\u001b[0;34m(\u001b[0m\u001b[0mnp\u001b[0m\u001b[0;34m.\u001b[0m\u001b[0marray\u001b[0m\u001b[0;34m(\u001b[0m\u001b[0mHessian\u001b[0m\u001b[0;34m)\u001b[0m\u001b[0;34m)\u001b[0m\u001b[0;34m\u001b[0m\u001b[0m\n\u001b[0m\u001b[1;32m     73\u001b[0m \u001b[0;31m#     print(Hessian)\u001b[0m\u001b[0;34m\u001b[0m\u001b[0;34m\u001b[0m\u001b[0m\n\u001b[1;32m     74\u001b[0m     \u001b[0mprint\u001b[0m\u001b[0;34m(\u001b[0m\u001b[0;34m\"inverse Hessian\\n\"\u001b[0m\u001b[0;34m,\u001b[0m \u001b[0minverseH\u001b[0m\u001b[0;34m)\u001b[0m\u001b[0;34m\u001b[0m\u001b[0m\n",
      "\u001b[0;32m/usr/local/var/pyenv/versions/3.5.2/lib/python3.5/site-packages/numpy/linalg/linalg.py\u001b[0m in \u001b[0;36minv\u001b[0;34m(a)\u001b[0m\n\u001b[1;32m    524\u001b[0m     \u001b[0msignature\u001b[0m \u001b[0;34m=\u001b[0m \u001b[0;34m'D->D'\u001b[0m \u001b[0;32mif\u001b[0m \u001b[0misComplexType\u001b[0m\u001b[0;34m(\u001b[0m\u001b[0mt\u001b[0m\u001b[0;34m)\u001b[0m \u001b[0;32melse\u001b[0m \u001b[0;34m'd->d'\u001b[0m\u001b[0;34m\u001b[0m\u001b[0m\n\u001b[1;32m    525\u001b[0m     \u001b[0mextobj\u001b[0m \u001b[0;34m=\u001b[0m \u001b[0mget_linalg_error_extobj\u001b[0m\u001b[0;34m(\u001b[0m\u001b[0m_raise_linalgerror_singular\u001b[0m\u001b[0;34m)\u001b[0m\u001b[0;34m\u001b[0m\u001b[0m\n\u001b[0;32m--> 526\u001b[0;31m     \u001b[0mainv\u001b[0m \u001b[0;34m=\u001b[0m \u001b[0m_umath_linalg\u001b[0m\u001b[0;34m.\u001b[0m\u001b[0minv\u001b[0m\u001b[0;34m(\u001b[0m\u001b[0ma\u001b[0m\u001b[0;34m,\u001b[0m \u001b[0msignature\u001b[0m\u001b[0;34m=\u001b[0m\u001b[0msignature\u001b[0m\u001b[0;34m,\u001b[0m \u001b[0mextobj\u001b[0m\u001b[0;34m=\u001b[0m\u001b[0mextobj\u001b[0m\u001b[0;34m)\u001b[0m\u001b[0;34m\u001b[0m\u001b[0m\n\u001b[0m\u001b[1;32m    527\u001b[0m     \u001b[0;32mreturn\u001b[0m \u001b[0mwrap\u001b[0m\u001b[0;34m(\u001b[0m\u001b[0mainv\u001b[0m\u001b[0;34m.\u001b[0m\u001b[0mastype\u001b[0m\u001b[0;34m(\u001b[0m\u001b[0mresult_t\u001b[0m\u001b[0;34m,\u001b[0m \u001b[0mcopy\u001b[0m\u001b[0;34m=\u001b[0m\u001b[0;32mFalse\u001b[0m\u001b[0;34m)\u001b[0m\u001b[0;34m)\u001b[0m\u001b[0;34m\u001b[0m\u001b[0m\n\u001b[1;32m    528\u001b[0m \u001b[0;34m\u001b[0m\u001b[0m\n",
      "\u001b[0;32m/usr/local/var/pyenv/versions/3.5.2/lib/python3.5/site-packages/numpy/linalg/linalg.py\u001b[0m in \u001b[0;36m_raise_linalgerror_singular\u001b[0;34m(err, flag)\u001b[0m\n\u001b[1;32m     88\u001b[0m \u001b[0;34m\u001b[0m\u001b[0m\n\u001b[1;32m     89\u001b[0m \u001b[0;32mdef\u001b[0m \u001b[0m_raise_linalgerror_singular\u001b[0m\u001b[0;34m(\u001b[0m\u001b[0merr\u001b[0m\u001b[0;34m,\u001b[0m \u001b[0mflag\u001b[0m\u001b[0;34m)\u001b[0m\u001b[0;34m:\u001b[0m\u001b[0;34m\u001b[0m\u001b[0m\n\u001b[0;32m---> 90\u001b[0;31m     \u001b[0;32mraise\u001b[0m \u001b[0mLinAlgError\u001b[0m\u001b[0;34m(\u001b[0m\u001b[0;34m\"Singular matrix\"\u001b[0m\u001b[0;34m)\u001b[0m\u001b[0;34m\u001b[0m\u001b[0m\n\u001b[0m\u001b[1;32m     91\u001b[0m \u001b[0;34m\u001b[0m\u001b[0m\n\u001b[1;32m     92\u001b[0m \u001b[0;32mdef\u001b[0m \u001b[0m_raise_linalgerror_nonposdef\u001b[0m\u001b[0;34m(\u001b[0m\u001b[0merr\u001b[0m\u001b[0;34m,\u001b[0m \u001b[0mflag\u001b[0m\u001b[0;34m)\u001b[0m\u001b[0;34m:\u001b[0m\u001b[0;34m\u001b[0m\u001b[0m\n",
      "\u001b[0;31mLinAlgError\u001b[0m: Singular matrix"
     ]
    }
   ],
   "source": [
    "a4, b4=run_newton(x1, y1)\n",
    "plt.plot(np.arange(len(a4)), np.array(a4))\n",
    "plt.plot(np.arange(len(b4)), np.array(b4))\n",
    "# plt.plot(np.arange(len(s4)), np.array(s4))\n",
    "plt.show()"
   ]
  },
  {
   "cell_type": "code",
   "execution_count": null,
   "metadata": {
    "collapsed": true,
    "deletable": true,
    "editable": true
   },
   "outputs": [],
   "source": [
    "h = np.array([[1,2],[3,4]])"
   ]
  },
  {
   "cell_type": "code",
   "execution_count": null,
   "metadata": {
    "collapsed": false,
    "deletable": true,
    "editable": true
   },
   "outputs": [],
   "source": [
    "invH = np.linalg.inv(np.matrix(h))"
   ]
  },
  {
   "cell_type": "code",
   "execution_count": null,
   "metadata": {
    "collapsed": false,
    "deletable": true,
    "editable": true
   },
   "outputs": [],
   "source": [
    "g = np.matrix([1,2])"
   ]
  },
  {
   "cell_type": "code",
   "execution_count": null,
   "metadata": {
    "collapsed": false,
    "deletable": true,
    "editable": true
   },
   "outputs": [],
   "source": [
    "a =(np.array(g))"
   ]
  },
  {
   "cell_type": "code",
   "execution_count": null,
   "metadata": {
    "collapsed": false,
    "deletable": true,
    "editable": true
   },
   "outputs": [],
   "source": [
    "a[0][1]"
   ]
  },
  {
   "cell_type": "code",
   "execution_count": null,
   "metadata": {
    "collapsed": false,
    "deletable": true,
    "editable": true
   },
   "outputs": [],
   "source": [
    "m=[[1,2,3],[4,5,6],[7,8,9]]\n",
    "m[2][1]"
   ]
  },
  {
   "cell_type": "code",
   "execution_count": null,
   "metadata": {
    "collapsed": true,
    "deletable": true,
    "editable": true
   },
   "outputs": [],
   "source": []
  }
 ],
 "metadata": {
  "kernelspec": {
   "display_name": "Python 3",
   "language": "python",
   "name": "python3"
  },
  "language_info": {
   "codemirror_mode": {
    "name": "ipython",
    "version": 3
   },
   "file_extension": ".py",
   "mimetype": "text/x-python",
   "name": "python",
   "nbconvert_exporter": "python",
   "pygments_lexer": "ipython3",
   "version": "3.5.2"
  }
 },
 "nbformat": 4,
 "nbformat_minor": 2
}
