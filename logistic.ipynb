{
 "cells": [
  {
   "cell_type": "markdown",
   "metadata": {
    "collapsed": false,
    "deletable": true,
    "editable": true,
    "slideshow": {
     "slide_type": "slide"
    }
   },
   "source": [
    "## 最尤推定のPythonプログラム"
   ]
  },
  {
   "cell_type": "code",
   "execution_count": 2,
   "metadata": {
    "collapsed": true,
    "deletable": true,
    "editable": true
   },
   "outputs": [],
   "source": [
    "import numpy as np\n",
    "import matplotlib.pyplot as plt\n",
    "import time"
   ]
  },
  {
   "cell_type": "markdown",
   "metadata": {
    "deletable": true,
    "editable": true
   },
   "source": [
    "### パラーメータの真値"
   ]
  },
  {
   "cell_type": "code",
   "execution_count": 3,
   "metadata": {
    "collapsed": true,
    "deletable": true,
    "editable": true,
    "slideshow": {
     "slide_type": "slide"
    }
   },
   "outputs": [],
   "source": [
    "A = 0.8 \n",
    "B = -0.3\n",
    "Sigma = 0.1"
   ]
  },
  {
   "cell_type": "markdown",
   "metadata": {
    "deletable": true,
    "editable": true
   },
   "source": [
    "### データの生成"
   ]
  },
  {
   "cell_type": "code",
   "execution_count": 4,
   "metadata": {
    "collapsed": false,
    "deletable": true,
    "editable": true,
    "slideshow": {
     "slide_type": "slide"
    }
   },
   "outputs": [],
   "source": [
    "def logistic(x):\n",
    "    epsilon = np.random.normal(0, Sigma, len(x))\n",
    "    return (1.0/(1+np.exp(- A * x -B)) + epsilon)\n",
    "\n",
    "x1 = np.sort(np.random.normal(0,1,20))\n",
    "x2 = np.sort(np.random.normal(0,1,50))\n",
    "x3 = np.sort(np.random.normal(0,1,100))\n",
    "\n",
    "y1=logistic(x1)\n",
    "y2=logistic(x2)\n",
    "y3=logistic(x3)\n",
    "\n",
    "data_sets =[{\"x\":x1, \"y\":y1}, {\"x\":x2, \"y\":y2}, {\"x\":x3, \"y\":y3} ]"
   ]
  },
  {
   "cell_type": "markdown",
   "metadata": {
    "deletable": true,
    "editable": true
   },
   "source": [
    "### データのプロット"
   ]
  },
  {
   "cell_type": "code",
   "execution_count": 6,
   "metadata": {
    "collapsed": false,
    "deletable": true,
    "editable": true,
    "slideshow": {
     "slide_type": "slide"
    }
   },
   "outputs": [
    {
     "data": {
      "image/png": "[encoded data removed]",
      "text/plain": [
       "<matplotlib.figure.Figure at 0x11183e5c0>"
      ]
     },
     "metadata": {},
     "output_type": "display_data"
    }
   ],
   "source": [
    "fig1 = plt.figure(figsize=(15,3))\n",
    "\n",
    "splot1 = fig1.add_subplot(1,3,1)\n",
    "splot1.scatter(x1, y1)\n",
    "splot1.title.set_text(\"data set 1(20)\")\n",
    "splot1.set_xlabel(\"X\")\n",
    "splot1.set_ylabel(\"Y\")\n",
    "\n",
    "splot2 = fig1.add_subplot(1,3,2)\n",
    "splot2.scatter(x2,y2)\n",
    "splot2.title.set_text(\"data set 2(50)\")\n",
    "splot２.set_xlabel(\"X\")\n",
    "splot２.set_ylabel(\"Y\")\n",
    "\n",
    "splot3 = fig1.add_subplot(1,3,3)\n",
    "splot3.title.set_text(\"data set 3(100)\")\n",
    "splot3.scatter(x3,y3)\n",
    "splot3.set_xlabel(\"X\")\n",
    "splot3.set_ylabel(\"Y\")\n",
    "plt.savefig(\"dateset.pdf\")\n",
    "plt.show()"
   ]
  },
  {
   "cell_type": "markdown",
   "metadata": {
    "deletable": true,
    "editable": true
   },
   "source": [
    "### 勾配上昇法(Gradient Ascent Method)"
   ]
  },
  {
   "cell_type": "code",
   "execution_count": null,
   "metadata": {
    "collapsed": false,
    "deletable": true,
    "editable": true
   },
   "outputs": [],
   "source": [
    "def gd(a, b, xarray, yarray):\n",
    "    grad = [0.0, 0.0] \n",
    "\n",
    "    n = len(xarray)\n",
    "    for i in range(n):\n",
    "        x =xarray[i]\n",
    "        y =yarray[i]\n",
    "        \n",
    "        z = -a * x - b\n",
    "        s = 1.0/(1.0+ np.exp(z))\n",
    "        eps = y - s\n",
    "        tmp = eps * s * (1 - s)\n",
    "        \n",
    "        grad[0] += (tmp * x)\n",
    "        grad[1] += (tmp )\n",
    "        \n",
    "    return(grad)"
   ]
  },
  {
   "cell_type": "code",
   "execution_count": null,
   "metadata": {
    "collapsed": true,
    "deletable": true,
    "editable": true
   },
   "outputs": [],
   "source": [
    "def fisher_info(a, b, sigma, xarray, yarray):\n",
    "    var = sigma **2\n",
    "    n = len(xarray)\n",
    "    g = 1/(sigma * np.sqrt(2*np.pi))\n",
    "    Info = [0, 0]\n",
    "    for i in range(n):\n",
    "        x = xarray[i]\n",
    "        y = yarray[i]\n",
    "        \n",
    "        z = -a * x - b\n",
    "        S = 1.0/(1.0 + np.exp(z))\n",
    "        eps = y - S\n",
    "        tmp = eps * S * (1 - S)\n",
    "        \n",
    "        p = g * np.exp(-(eps ** 2)/(2 * var))\n",
    "        \n",
    "        d_log_p_a = ((tmp * x / var)**2) * p\n",
    "        d_log_p_b = ((tmp / var) **2 )* p\n",
    "      \n",
    "    Info[0] += d_log_p_a\n",
    "    Info[1] += d_log_p_b\n",
    " \n",
    "    return(Info)    "
   ]
  },
  {
   "cell_type": "markdown",
   "metadata": {
    "deletable": true,
    "editable": true
   },
   "source": [
    "### 勾配上昇法の実行"
   ]
  },
  {
   "cell_type": "code",
   "execution_count": null,
   "metadata": {
    "collapsed": false,
    "deletable": true,
    "editable": true
   },
   "outputs": [],
   "source": [
    "def run_gd(x, y):\n",
    "    # 初期値\n",
    "    a = [0]\n",
    "    b = [0]\n",
    "\n",
    "    # 学習率\n",
    "    eita=0.001\n",
    "    \n",
    "    e = 0.0001\n",
    "    \n",
    "    for i in range(2000):\n",
    "        grad = gd(a[-1], b[-1], x, y)\n",
    "        \n",
    "        flag = 0\n",
    "        for g in grad:\n",
    "            if np.abs(eita*g) < e :\n",
    "                flag +=1\n",
    "        if flag >= 2 :\n",
    "            break   \n",
    "        a.append(a[i] + eita* grad[0])\n",
    "        b.append(b[i] + eita * grad[1])\n",
    "\n",
    "    return a, b"
   ]
  },
  {
   "cell_type": "markdown",
   "metadata": {
    "deletable": true,
    "editable": true
   },
   "source": [
    "### 勾配上昇法のグラフのプロット"
   ]
  },
  {
   "cell_type": "code",
   "execution_count": null,
   "metadata": {
    "collapsed": false,
    "deletable": true,
    "editable": true,
    "scrolled": true
   },
   "outputs": [],
   "source": [
    "latex_data=[]\n",
    "for i, data in enumerate(data_sets):\n",
    "    start = time.time()\n",
    "    a1, b1= run_gd (data[\"x\"], data[\"y\"])\n",
    "#     info = fisher_info(a1[-1], b1[-1], 0.1, data[\"x\"], data[\"y\"])\n",
    "    elapsed_time = time.time() - start\n",
    "    \n",
    "    print(\"data set %d:\\n計算回数:%d\\nパラメーター推定値： a=%5lf, b=%5lf, \" % ( i +1, len(a1)-1, a1[-1], b1[-1]))\n",
    "#     print(\"フィッシャ情報量： I(a)=%f, I(b)=%f\"%(info[0], info[1]))\n",
    "    print(\"誤差： Err(a)=%f, Err(b)=%f\"%(np.abs(A - a1[-1]), np.abs(B - b1[-1])))\n",
    "    print(\"経過時間：=%f\"%(elapsed_time))\n",
    "    \n",
    "    latex_data.append(\"%d & %d & %d & %f & %5lf & %f & %5lf & %f \\\\\\\\\"%( i+1, len(data[\"x\"]), len(a1)-1, elapsed_time, a1[-1], np.abs(A - a1[-1]),b1[-1],np.abs(B - b1[-1])))\n",
    "    \n",
    "    plt.figure(figsize=(6,4))\n",
    "    plt.plot(np.arange(len(a1)), np.array(a1), label=\"a\")\n",
    "    plt.plot(np.arange(len(b1)), np.array(b1), label=\"b\")\n",
    "#     plt.plot(np.arange(len(sigma1)), np.array(sigma1), label=\"sigma\")\n",
    "    plt.legend(loc=\"upper center\")\n",
    "    plt.title(\"data set %d\"%( i+1))\n",
    "    plt.show() \n",
    "for item in latex_data:\n",
    "    print(item)"
   ]
  },
  {
   "cell_type": "markdown",
   "metadata": {
    "deletable": true,
    "editable": true
   },
   "source": [
    "### ニュートン・ラフソン法(Newton-Raphson method）"
   ]
  },
  {
   "cell_type": "code",
   "execution_count": null,
   "metadata": {
    "collapsed": false,
    "deletable": true,
    "editable": true
   },
   "outputs": [],
   "source": [
    "def newton(a, b, xarray, yarray):\n",
    "    # var = 0.01\n",
    "    n = len(xarray)\n",
    "    \n",
    "    Hessian = [[0.0 for j in range(2)] for i in range(2)]\n",
    "    grad = [0.0 for j in range(2)] \n",
    "    \n",
    "    for i in range(n):    \n",
    "        x =xarray[i]\n",
    "        y =yarray[i]\n",
    "        \n",
    "        z = -a * x - b\n",
    "        s = 1.0/(1.0+ np.exp(z))\n",
    "        eps = y - s\n",
    "        \n",
    "        phi = y - 2 * s * (y + 1) + 3 * (s ** 2)\n",
    "        psi = s * (1 - s)\n",
    "        \n",
    "        eps_psi = eps * psi\n",
    "        \n",
    "        grad[0] += (eps_psi * x)\n",
    "        grad[1] += (eps_psi )\n",
    "\n",
    "        phi_psi = phi * psi\n",
    "        phi_psi_x = phi_psi * x\n",
    "        \n",
    "        Hessian[0][0] += (phi_psi_x * x)\n",
    "        Hessian[0][1] += phi_psi_x\n",
    "        \n",
    "        #Hessian[1][0] += phi_psi_x\n",
    "        Hessian[1][1] += phi_psi\n",
    "    \n",
    "\n",
    "    \n",
    "    Hessian = np.array(Hessian)\n",
    "\n",
    "    inverseH = np.linalg.inv(Hessian)\n",
    "\n",
    "    return inverseH.dot(np.array(grad))"
   ]
  },
  {
   "cell_type": "markdown",
   "metadata": {
    "deletable": true,
    "editable": true
   },
   "source": [
    "### ニュートン法の実行"
   ]
  },
  {
   "cell_type": "code",
   "execution_count": null,
   "metadata": {
    "collapsed": false,
    "deletable": true,
    "editable": true
   },
   "outputs": [],
   "source": [
    "def run_newton(xarray, yarray):\n",
    "    # 初期値＞１にしたら、収束しない\n",
    "    a = [0]\n",
    "    b = [0]\n",
    " \n",
    "    variable = np.array([1, 1])\n",
    "    \n",
    "    eita = 1\n",
    "    e = 0.0000001\n",
    "    \n",
    "    for i in range(1000):\n",
    "        flag = 0\n",
    "        # 準偏差を定数0.1にする\n",
    "        h_g = newton(a[-1], b[-1], xarray, yarray)\n",
    "        #print (\"h_g\", h_g)\n",
    "        for item in h_g:\n",
    "            if np.abs(item) < e:\n",
    "                flag += 1\n",
    "        if flag >= len(h_g):\n",
    "            break\n",
    "        a.append(a[i] - eita * h_g[0])\n",
    "        b.append(b[i] - eita * h_g[1])\n",
    "        # s.append(s[i] - eita * h_g[2])\n",
    "\n",
    "    return a,b"
   ]
  },
  {
   "cell_type": "markdown",
   "metadata": {
    "deletable": true,
    "editable": true
   },
   "source": [
    "### ニュートン法のグラフのプロット"
   ]
  },
  {
   "cell_type": "code",
   "execution_count": null,
   "metadata": {
    "collapsed": false,
    "deletable": true,
    "editable": true
   },
   "outputs": [],
   "source": [
    "latex_data =[]\n",
    "for i, data in enumerate(data_sets):\n",
    "    start = time.time()\n",
    "    \n",
    "    a4, b4= run_newton(data[\"x\"], data[\"y\"])\n",
    "#     info = fisher_info(a4[-1], b4[-1], 0.1, data[\"x\"], data[\"y\"])\n",
    "    elapsed_time = time.time() - start\n",
    "    \n",
    "    print(\"data set %d:\\n計算回数:%d\\nパラメーター推定値： a=%5lf, b=%5lf, \" % ( i +1, len(a4)-1, a4[-1], b4[-1]))\n",
    "#     print(\"フィッシャ情報量： I(a)=%f, I(b)=%f\"%(info[0], info[1]))\n",
    "    print(\"誤差： Err(a)=%f, Err(b)=%f\"%(np.abs(A - a4[-1]), np.abs(B - b4[-1])))\n",
    "    print(\"経過時間：=%f\"%(elapsed_time))\n",
    "    latex_data.append(\"%d & %d & %d & %f & %5lf & %f & %5lf & %f \\\\\\\\\"%( i+1, len(data[\"x\"]), len(a4)-1, elapsed_time, a4[-1], np.abs(A - a4[-1]),b4[-1],np.abs(B - b4[-1])))\n",
    "    \n",
    "    plt.plot(np.arange(len(a4)), np.array(a4), label=\"a\")\n",
    "    plt.plot(np.arange(len(b4)), np.array(b4), label=\"b\")\n",
    "    # plt.plot(np.arange(len(s4)), np.array(s4))\n",
    "    plt.legend(loc=\"center right\")\n",
    "    plt.title(\"data set %d\"%( i+1))\n",
    "    plt.show()\n",
    "for item in latex_data:\n",
    "    print(item)"
   ]
  }
 ],
 "metadata": {
  "kernelspec": {
   "display_name": "Python 3",
   "language": "python",
   "name": "python3"
  },
  "language_info": {
   "codemirror_mode": {
    "name": "ipython",
    "version": 3
   },
   "file_extension": ".py",
   "mimetype": "text/x-python",
   "name": "python",
   "nbconvert_exporter": "python",
   "pygments_lexer": "ipython3",
   "version": "3.5.2"
  }
 },
 "nbformat": 4,
 "nbformat_minor": 2
}
